{
  "nbformat": 4,
  "nbformat_minor": 0,
  "metadata": {
    "colab": {
      "provenance": [],
      "authorship_tag": "ABX9TyPFd+0na+Bi+0TjbIAFJ+kp",
      "include_colab_link": true
    },
    "kernelspec": {
      "name": "python3",
      "display_name": "Python 3"
    },
    "language_info": {
      "name": "python"
    }
  },
  "cells": [
    {
      "cell_type": "markdown",
      "metadata": {
        "id": "view-in-github",
        "colab_type": "text"
      },
      "source": [
        "<a href=\"https://colab.research.google.com/github/pavanshetkar/BigData/blob/master/practise.ipynb\" target=\"_parent\"><img src=\"https://colab.research.google.com/assets/colab-badge.svg\" alt=\"Open In Colab\"/></a>"
      ]
    },
    {
      "cell_type": "code",
      "source": [
        "# Install PySpark\n",
        "!pip install pyspark\n",
        "\n",
        "# Import and create Spark session\n",
        "from pyspark.sql import SparkSession\n",
        "\n",
        "spark = SparkSession.builder \\\n",
        "    .appName(\"ColabSparkSession\") \\\n",
        "    .getOrCreate()\n",
        "\n"
      ],
      "metadata": {
        "colab": {
          "base_uri": "https://localhost:8080/"
        },
        "id": "R_ZbPOn62NRm",
        "outputId": "d44c3104-043e-43fe-9816-816baff8f6ad"
      },
      "execution_count": 7,
      "outputs": [
        {
          "output_type": "stream",
          "name": "stdout",
          "text": [
            "Requirement already satisfied: pyspark in /usr/local/lib/python3.11/dist-packages (3.5.5)\n",
            "Requirement already satisfied: py4j==0.10.9.7 in /usr/local/lib/python3.11/dist-packages (from pyspark) (0.10.9.7)\n"
          ]
        }
      ]
    },
    {
      "cell_type": "code",
      "source": [
        "# Test it\n",
        "# First DataFrame: Customers\n",
        "customers = spark.createDataFrame([\n",
        "    (1, \"Alice\"),\n",
        "    (2, \"Bob\"),\n",
        "    (3, \"Charlie\")\n",
        "], [\"customer_id\", \"name\"])\n",
        "\n",
        "customers.show()\n",
        "\n",
        "# Second DataFrame: Orders\n",
        "orders = spark.createDataFrame([\n",
        "    (1, 100),\n",
        "    (2, 200),\n",
        "    (1, 300)\n",
        "], [\"customer_id\", \"order_amount\"])\n",
        "orders.show()"
      ],
      "metadata": {
        "colab": {
          "base_uri": "https://localhost:8080/"
        },
        "id": "tJQsIJdy2XBW",
        "outputId": "d28f5ff1-8c7a-4f1c-8c44-fb5cf383d1d4"
      },
      "execution_count": 9,
      "outputs": [
        {
          "output_type": "stream",
          "name": "stdout",
          "text": [
            "+-----------+-------+\n",
            "|customer_id|   name|\n",
            "+-----------+-------+\n",
            "|          1|  Alice|\n",
            "|          2|    Bob|\n",
            "|          3|Charlie|\n",
            "+-----------+-------+\n",
            "\n",
            "+-----------+------------+\n",
            "|customer_id|order_amount|\n",
            "+-----------+------------+\n",
            "|          1|         100|\n",
            "|          2|         200|\n",
            "|          1|         300|\n",
            "+-----------+------------+\n",
            "\n"
          ]
        }
      ]
    },
    {
      "cell_type": "code",
      "source": [
        "joined_df = customers.join(orders, on=\"customer_id\", how=\"inner\")\n",
        "joined_df.show()"
      ],
      "metadata": {
        "colab": {
          "base_uri": "https://localhost:8080/"
        },
        "id": "OeWEi1Rm3M1P",
        "outputId": "73770d57-1582-4791-d942-c058bd747e1f"
      },
      "execution_count": 10,
      "outputs": [
        {
          "output_type": "stream",
          "name": "stdout",
          "text": [
            "+-----------+-----+------------+\n",
            "|customer_id| name|order_amount|\n",
            "+-----------+-----+------------+\n",
            "|          1|Alice|         100|\n",
            "|          1|Alice|         300|\n",
            "|          2|  Bob|         200|\n",
            "+-----------+-----+------------+\n",
            "\n"
          ]
        }
      ]
    },
    {
      "cell_type": "code",
      "source": [
        "data = [\n",
        "    (\"00000000\", \"06-26-2011\", 200, \"Exercise\", \"GymnasticsPro\", \"cash\"),\n",
        "    (\"00000001\", \"05-26-2011\", 300, \"Exercise\", \"Weightlifting\", \"credit\"),\n",
        "    (\"00000002\", \"06-01-2011\", 100, \"Exercise\", \"GymnasticsPro\", \"cash\"),\n",
        "    (\"00000003\", \"06-05-2011\", 100, \"Gymnastics\", \"Rings\", \"credit\"),\n",
        "    (\"00000004\", \"12-17-2011\", 300, \"Team Sports\", \"Field\", \"paytm\"),\n",
        "    (\"00000005\", \"02-14-2011\", 200, \"Gymnastics\", None, \"cash\")\n",
        "]\n",
        "\n",
        "#converting to DataFrame\n",
        "df = spark.createDataFrame(data).toDF(\"tno\", \"tdate\", \"amount\", \"category\", \"product\", \"spendby\")\n",
        "\n",
        "\n",
        "df.show()\n"
      ],
      "metadata": {
        "colab": {
          "base_uri": "https://localhost:8080/"
        },
        "id": "C8zo8CzL3bJ9",
        "outputId": "25e23fac-39cd-4680-9d33-baec699e0a47"
      },
      "execution_count": 11,
      "outputs": [
        {
          "output_type": "stream",
          "name": "stdout",
          "text": [
            "+--------+----------+------+-----------+-------------+-------+\n",
            "|     tno|     tdate|amount|   category|      product|spendby|\n",
            "+--------+----------+------+-----------+-------------+-------+\n",
            "|00000000|06-26-2011|   200|   Exercise|GymnasticsPro|   cash|\n",
            "|00000001|05-26-2011|   300|   Exercise|Weightlifting| credit|\n",
            "|00000002|06-01-2011|   100|   Exercise|GymnasticsPro|   cash|\n",
            "|00000003|06-05-2011|   100| Gymnastics|        Rings| credit|\n",
            "|00000004|12-17-2011|   300|Team Sports|        Field|  paytm|\n",
            "|00000005|02-14-2011|   200| Gymnastics|         NULL|   cash|\n",
            "+--------+----------+------+-----------+-------------+-------+\n",
            "\n"
          ]
        }
      ]
    },
    {
      "cell_type": "code",
      "source": [
        "!wget https://raw.githubusercontent.com/uiuc-cse/data-fa14/gh-pages/data/iris.csv -O iris.csv"
      ],
      "metadata": {
        "colab": {
          "base_uri": "https://localhost:8080/"
        },
        "id": "QmuRBez930ef",
        "outputId": "c668ce55-2d0b-4b91-ee64-d1a1c81ffa64"
      },
      "execution_count": 14,
      "outputs": [
        {
          "output_type": "stream",
          "name": "stdout",
          "text": [
            "--2025-04-06 02:26:22--  https://raw.githubusercontent.com/uiuc-cse/data-fa14/gh-pages/data/iris.csv\n",
            "Resolving raw.githubusercontent.com (raw.githubusercontent.com)... 185.199.108.133, 185.199.109.133, 185.199.110.133, ...\n",
            "Connecting to raw.githubusercontent.com (raw.githubusercontent.com)|185.199.108.133|:443... connected.\n",
            "HTTP request sent, awaiting response... 200 OK\n",
            "Length: 3716 (3.6K) [text/plain]\n",
            "Saving to: ‘iris.csv’\n",
            "\n",
            "iris.csv            100%[===================>]   3.63K  --.-KB/s    in 0s      \n",
            "\n",
            "2025-04-06 02:26:22 (30.2 MB/s) - ‘iris.csv’ saved [3716/3716]\n",
            "\n"
          ]
        }
      ]
    },
    {
      "cell_type": "markdown",
      "source": [
        "# New Section"
      ],
      "metadata": {
        "id": "sB2Aj4CU7CqE"
      }
    },
    {
      "cell_type": "code",
      "source": [
        "df = spark.read.csv(\"/content/iris.csv\",\n",
        "                    header=True, inferSchema=True)\n",
        "\n",
        "df.show(5)\n",
        "df.printSchema()"
      ],
      "metadata": {
        "colab": {
          "base_uri": "https://localhost:8080/"
        },
        "id": "TGQy3E1G6hf1",
        "outputId": "e61fd02f-5052-4efd-a611-cc468526967c"
      },
      "execution_count": 17,
      "outputs": [
        {
          "output_type": "stream",
          "name": "stdout",
          "text": [
            "+------------+-----------+------------+-----------+-------+\n",
            "|sepal_length|sepal_width|petal_length|petal_width|species|\n",
            "+------------+-----------+------------+-----------+-------+\n",
            "|         5.1|        3.5|         1.4|        0.2| setosa|\n",
            "|         4.9|        3.0|         1.4|        0.2| setosa|\n",
            "|         4.7|        3.2|         1.3|        0.2| setosa|\n",
            "|         4.6|        3.1|         1.5|        0.2| setosa|\n",
            "|         5.0|        3.6|         1.4|        0.2| setosa|\n",
            "+------------+-----------+------------+-----------+-------+\n",
            "only showing top 5 rows\n",
            "\n",
            "root\n",
            " |-- sepal_length: double (nullable = true)\n",
            " |-- sepal_width: double (nullable = true)\n",
            " |-- petal_length: double (nullable = true)\n",
            " |-- petal_width: double (nullable = true)\n",
            " |-- species: string (nullable = true)\n",
            "\n"
          ]
        }
      ]
    }
  ]
}